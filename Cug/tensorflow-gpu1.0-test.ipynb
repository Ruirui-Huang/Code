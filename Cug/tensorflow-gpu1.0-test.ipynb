{
 "cells": [
  {
   "cell_type": "code",
   "execution_count": 1,
   "metadata": {},
   "outputs": [
    {
     "name": "stdout",
     "output_type": "stream",
     "text": [
      "/device:CPU:0 /device:CPU:0\n",
      "/device:GPU:0 /device:GPU:0\n",
      "warmup: 0.0396668 0.007127500000000002\n",
      "run time: 0.006976400000000001 0.006333499999999999\n"
     ]
    }
   ],
   "source": [
    "import tensorflow as tf\n",
    "import timeit\n",
    "\n",
    "with tf.device('/cpu:0'):\n",
    "\tcpu_a = tf.random.normal([10000, 1000])\n",
    "\tcpu_b = tf.random.normal([1000, 2000])\n",
    "\tprint(cpu_a.device, cpu_b.device)\n",
    "\n",
    "with tf.device('/gpu:0'):\n",
    "\tgpu_a = tf.random.normal([10000, 1000])\n",
    "\tgpu_b = tf.random.normal([1000, 2000])\n",
    "\tprint(gpu_a.device, gpu_b.device)\n",
    "\n",
    "def cpu_run():\n",
    "\twith tf.device('/cpu:0'):\n",
    "\t\tc = tf.matmul(cpu_a, cpu_b)\n",
    "\treturn c\n",
    "\n",
    "def gpu_run():\n",
    "\twith tf.device('/gpu:0'):\n",
    "\t\tc = tf.matmul(gpu_a, gpu_b)\n",
    "\treturn c\n",
    "\n",
    "# warm up\n",
    "cpu_time = timeit.timeit(cpu_run, number=10)\n",
    "gpu_time = timeit.timeit(gpu_run, number=10)\n",
    "print('warmup:', cpu_time, gpu_time)\n",
    "\n",
    "cpu_time = timeit.timeit(cpu_run, number=10)\n",
    "gpu_time = timeit.timeit(gpu_run, number=10)\n",
    "print('run time:', cpu_time, gpu_time)"
   ]
  },
  {
   "cell_type": "code",
   "execution_count": 3,
   "metadata": {},
   "outputs": [
    {
     "name": "stdout",
     "output_type": "stream",
     "text": [
      "[2. 4. 6.]\n"
     ]
    }
   ],
   "source": [
    "import os\n",
    "os.environ['TF_CPP_MIN_LOG_LEVEL'] = '2'\n",
    "import tensorflow as tf\n",
    "\n",
    "with tf.device('/cpu:0'):\n",
    "    a = tf.constant([1.0, 2.0, 3.0], shape=[3], name='a')\n",
    "    b = tf.constant([1.0, 2.0, 3.0], shape=[3], name='b')\n",
    "with tf.device('/gpu:1'):\n",
    "    c = a + b\n",
    "\n",
    "\n",
    "sess = tf.Session(config=tf.ConfigProto(allow_soft_placement=True, log_device_placement=True))\n",
    "# sess = tf.Session(config=tf.ConfigProto(log_device_placement=True))\n",
    "sess.run(tf.global_variables_initializer())\n",
    "print(sess.run(c))"
   ]
  },
  {
   "cell_type": "code",
   "execution_count": null,
   "metadata": {},
   "outputs": [],
   "source": []
  }
 ],
 "metadata": {
  "kernelspec": {
   "display_name": "Python [conda env:python36]",
   "language": "python",
   "name": "conda-env-python36-py"
  },
  "language_info": {
   "codemirror_mode": {
    "name": "ipython",
    "version": 3
   },
   "file_extension": ".py",
   "mimetype": "text/x-python",
   "name": "python",
   "nbconvert_exporter": "python",
   "pygments_lexer": "ipython3",
   "version": "3.6.9"
  }
 },
 "nbformat": 4,
 "nbformat_minor": 2
}
